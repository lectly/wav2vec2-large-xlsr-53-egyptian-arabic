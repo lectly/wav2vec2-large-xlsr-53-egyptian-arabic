{
 "cells": [
  {
   "cell_type": "markdown",
   "metadata": {},
   "source": [
    "# Fine-Tuning Wav2Vec2-Large-XLSR-52 on MGB-3"
   ]
  },
  {
   "cell_type": "code",
   "execution_count": 1,
   "metadata": {},
   "outputs": [],
   "source": [
    "import pandas as pd\n",
    "import numpy as np\n",
    "import re\n",
    "import json\n",
    "from transformers import Wav2Vec2CTCTokenizer, Wav2Vec2FeatureExtractor, Wav2Vec2Processor\n",
    "import torchaudio"
   ]
  },
  {
   "cell_type": "markdown",
   "metadata": {},
   "source": [
    "### Constants"
   ]
  },
  {
   "cell_type": "code",
   "execution_count": 2,
   "metadata": {},
   "outputs": [],
   "source": [
    "language_code = 'ar'\n",
    "language_name = 'arabic'\n",
    "base_model = \"facebook/wav2vec2-large-xlsr-53\"\n",
    "\n",
    "train_dir = \"./mgb3/adapt/Omar/\"\n",
    "dev_dir = \"./mgb3/dev/Omar/\"\n",
    "test_dir = \"./mgb3/test/Omar/\"\n",
    "wav_dir = \"./mgb3/wav/\"\n",
    "\n",
    "data_dir = \"./data/\"\n",
    "\n",
    "columns = [\"filename\", \"start_time\", \"end_time\", \"sentence\", \"phoneme\"]\n",
    "\n",
    "output_models_dir = f\"./workspace/output_models/{language_code}/wav2vec2-large-xlsr-{language_name}-demo\"\n",
    "new_output_models_dir = f\"./workspace/output_models/{language_code}/wav2vec2-large-xlsr-{language_name}\""
   ]
  },
  {
   "cell_type": "markdown",
   "metadata": {},
   "source": [
    "## Prepare Data, Tokenizer, Feature Extractor\n",
    "### Prepare Data"
   ]
  },
  {
   "cell_type": "code",
   "execution_count": 3,
   "metadata": {},
   "outputs": [],
   "source": [
    "def split(strng, sep, pos):\n",
    "    strng = strng.split(sep)\n",
    "    return [sep.join(strng[:pos]), sep.join(strng[pos:])]\n",
    "\n",
    "def parse_text_lines(lines):\n",
    "    # split name and time from speech\n",
    "    lines = [line.split(\" \", 1) for line in lines]\n",
    "    \n",
    "    # split name and time from each other\n",
    "    name_time = [split(line[0], \"_\", 4) for line in lines]\n",
    "\n",
    "    # split start time from end time\n",
    "    time_splitted = [nt[1].split('_') for nt in name_time]\n",
    "    \n",
    "    for i in range(len(lines)):\n",
    "        # remove old time\n",
    "        del name_time[i][1]\n",
    "        # add splitted time\n",
    "        name_time[i].append(time_splitted[i][0])\n",
    "        name_time[i].append(time_splitted[i][1])\n",
    "        # add speech\n",
    "        name_time[i].append(lines[i][1])\n",
    "        \n",
    "    return name_time\n",
    "\n",
    "def load_data(data_dir):\n",
    "    # load speech file name, times and speech\n",
    "    with open(f\"{data_dir}text_noverlap\", encoding='utf-8', errors='ignore') as f:\n",
    "        lines = f.readlines()\n",
    "    lines = parse_text_lines(lines)\n",
    "\n",
    "    # load phonemes\n",
    "    with open(f\"{data_dir}text_noverlap.bw\", encoding='utf-8', errors='ignore') as f:\n",
    "        lines2 = f.readlines()\n",
    "    lines2 = [line.split(\" \", 1)[1] for line in lines2]\n",
    "    \n",
    "    assert len(lines) == len(lines2)\n",
    "    for i in range(len(lines)):\n",
    "        lines[i].append(lines2[i])\n",
    "    return lines"
   ]
  },
  {
   "cell_type": "code",
   "execution_count": 4,
   "metadata": {},
   "outputs": [
    {
     "data": {
      "text/html": [
       "<div>\n",
       "<style scoped>\n",
       "    .dataframe tbody tr th:only-of-type {\n",
       "        vertical-align: middle;\n",
       "    }\n",
       "\n",
       "    .dataframe tbody tr th {\n",
       "        vertical-align: top;\n",
       "    }\n",
       "\n",
       "    .dataframe thead th {\n",
       "        text-align: right;\n",
       "    }\n",
       "</style>\n",
       "<table border=\"1\" class=\"dataframe\">\n",
       "  <thead>\n",
       "    <tr style=\"text-align: right;\">\n",
       "      <th></th>\n",
       "      <th>filename</th>\n",
       "      <th>start_time</th>\n",
       "      <th>end_time</th>\n",
       "      <th>sentence</th>\n",
       "      <th>phoneme</th>\n",
       "    </tr>\n",
       "  </thead>\n",
       "  <tbody>\n",
       "    <tr>\n",
       "      <th>0</th>\n",
       "      <td>comedy_72_first_12min</td>\n",
       "      <td>23.652</td>\n",
       "      <td>31.356</td>\n",
       "      <td>مساء الخير أهلاً ومرحباً بيكم في حلقة جديدة من...</td>\n",
       "      <td>msA' Alxyr &gt;hlA wmrHbA bykm fy Hlqp jdydp mn b...</td>\n",
       "    </tr>\n",
       "    <tr>\n",
       "      <th>1</th>\n",
       "      <td>comedy_72_first_12min</td>\n",
       "      <td>31.356</td>\n",
       "      <td>36.621</td>\n",
       "      <td>عشان يظهر موهبته للناس كلها، نفسه بس إن هو ياخ...</td>\n",
       "      <td>E$An yZhr mwhbth llnAs klhA nfsh bs &lt;n hw yAxd...</td>\n",
       "    </tr>\n",
       "    <tr>\n",
       "      <th>2</th>\n",
       "      <td>comedy_72_first_12min</td>\n",
       "      <td>36.621</td>\n",
       "      <td>46.166</td>\n",
       "      <td>يمكن إحنا زمان الفرصة أتاحت لنا أتاحت لنا الفر...</td>\n",
       "      <td>ymkn &lt;HnA zmAn AlfrSp &gt;tAHt lnA &gt;tAHt lnA Alfr...</td>\n",
       "    </tr>\n",
       "    <tr>\n",
       "      <th>3</th>\n",
       "      <td>comedy_72_first_12min</td>\n",
       "      <td>46.166</td>\n",
       "      <td>51.581</td>\n",
       "      <td>وجه الزمن وجه الوقت وجه المكان اللي نقدم ناس غ...</td>\n",
       "      <td>wjh Alzmn wjh Alwqt wjh AlmkAn Ally nqdm nAs g...</td>\n",
       "    </tr>\n",
       "    <tr>\n",
       "      <th>4</th>\n",
       "      <td>comedy_72_first_12min</td>\n",
       "      <td>51.581</td>\n",
       "      <td>59.684</td>\n",
       "      <td>الحمد لله إحنا بعد ما إتشهرنا جداً والناس عرفت...</td>\n",
       "      <td>AlHmd llh &lt;HnA bEd mA &lt;t$hrnA jdA wAlnAs Erftn...</td>\n",
       "    </tr>\n",
       "  </tbody>\n",
       "</table>\n",
       "</div>"
      ],
      "text/plain": [
       "                filename start_time end_time  \\\n",
       "0  comedy_72_first_12min     23.652   31.356   \n",
       "1  comedy_72_first_12min     31.356   36.621   \n",
       "2  comedy_72_first_12min     36.621   46.166   \n",
       "3  comedy_72_first_12min     46.166   51.581   \n",
       "4  comedy_72_first_12min     51.581   59.684   \n",
       "\n",
       "                                            sentence  \\\n",
       "0  مساء الخير أهلاً ومرحباً بيكم في حلقة جديدة من...   \n",
       "1  عشان يظهر موهبته للناس كلها، نفسه بس إن هو ياخ...   \n",
       "2  يمكن إحنا زمان الفرصة أتاحت لنا أتاحت لنا الفر...   \n",
       "3  وجه الزمن وجه الوقت وجه المكان اللي نقدم ناس غ...   \n",
       "4  الحمد لله إحنا بعد ما إتشهرنا جداً والناس عرفت...   \n",
       "\n",
       "                                             phoneme  \n",
       "0  msA' Alxyr >hlA wmrHbA bykm fy Hlqp jdydp mn b...  \n",
       "1  E$An yZhr mwhbth llnAs klhA nfsh bs <n hw yAxd...  \n",
       "2  ymkn <HnA zmAn AlfrSp >tAHt lnA >tAHt lnA Alfr...  \n",
       "3  wjh Alzmn wjh Alwqt wjh AlmkAn Ally nqdm nAs g...  \n",
       "4  AlHmd llh <HnA bEd mA <t$hrnA jdA wAlnAs Erftn...  "
      ]
     },
     "execution_count": 4,
     "metadata": {},
     "output_type": "execute_result"
    }
   ],
   "source": [
    "lines = load_data(train_dir)\n",
    "\n",
    "data = pd.DataFrame(lines, columns=columns)\n",
    "data.to_csv(f'{train_dir}train.csv', index=False)\n",
    "data.head()"
   ]
  },
  {
   "cell_type": "code",
   "execution_count": 5,
   "metadata": {},
   "outputs": [
    {
     "data": {
      "text/html": [
       "<div>\n",
       "<style scoped>\n",
       "    .dataframe tbody tr th:only-of-type {\n",
       "        vertical-align: middle;\n",
       "    }\n",
       "\n",
       "    .dataframe tbody tr th {\n",
       "        vertical-align: top;\n",
       "    }\n",
       "\n",
       "    .dataframe thead th {\n",
       "        text-align: right;\n",
       "    }\n",
       "</style>\n",
       "<table border=\"1\" class=\"dataframe\">\n",
       "  <thead>\n",
       "    <tr style=\"text-align: right;\">\n",
       "      <th></th>\n",
       "      <th>filename</th>\n",
       "      <th>start_time</th>\n",
       "      <th>end_time</th>\n",
       "      <th>sentence</th>\n",
       "      <th>phoneme</th>\n",
       "    </tr>\n",
       "  </thead>\n",
       "  <tbody>\n",
       "    <tr>\n",
       "      <th>0</th>\n",
       "      <td>comedy_75_first_12min</td>\n",
       "      <td>0.000</td>\n",
       "      <td>8.190</td>\n",
       "      <td>أهلاً وسهلاً، أهلاً وسهلاً ومرحباً بيكم وحلقة ...</td>\n",
       "      <td>&gt;hlA wshlA &gt;hlA wshlA wmrHbA bykm wHlqp jdydp ...</td>\n",
       "    </tr>\n",
       "    <tr>\n",
       "      <th>1</th>\n",
       "      <td>comedy_75_first_12min</td>\n",
       "      <td>8.190</td>\n",
       "      <td>16.700</td>\n",
       "      <td>حلقة النهارده بنتكلم فيها عن التحرش\\n</td>\n",
       "      <td>Hlqp AlnhArdh bntklm fyhA En AltHr$  \\n</td>\n",
       "    </tr>\n",
       "    <tr>\n",
       "      <th>2</th>\n",
       "      <td>comedy_75_first_12min</td>\n",
       "      <td>16.700</td>\n",
       "      <td>24.506</td>\n",
       "      <td>يا سلام ع الفرحة يا سلام، طبعاً هو التحرش ده أ...</td>\n",
       "      <td>yA slAm E AlfrHp yA slAm TbEA hw AltHr$ dh &gt;ky...</td>\n",
       "    </tr>\n",
       "    <tr>\n",
       "      <th>3</th>\n",
       "      <td>comedy_75_first_12min</td>\n",
       "      <td>24.506</td>\n",
       "      <td>33.824</td>\n",
       "      <td>كان موجود من زمان بس يمكن في الفترة الأخيرة اب...</td>\n",
       "      <td>kAn mwjwd mn zmAn bs ymkn fy Alftrp Al&gt;xyrp Ab...</td>\n",
       "    </tr>\n",
       "    <tr>\n",
       "      <th>4</th>\n",
       "      <td>comedy_75_first_12min</td>\n",
       "      <td>33.824</td>\n",
       "      <td>41.227</td>\n",
       "      <td>طب هل المشكلة في اللبس هل المشكلة في الأخلاق ه...</td>\n",
       "      <td>Tb hl Alm$klp fy Allbs hl Alm$klp fy Al&gt;xlAq h...</td>\n",
       "    </tr>\n",
       "  </tbody>\n",
       "</table>\n",
       "</div>"
      ],
      "text/plain": [
       "                filename start_time end_time  \\\n",
       "0  comedy_75_first_12min      0.000    8.190   \n",
       "1  comedy_75_first_12min      8.190   16.700   \n",
       "2  comedy_75_first_12min     16.700   24.506   \n",
       "3  comedy_75_first_12min     24.506   33.824   \n",
       "4  comedy_75_first_12min     33.824   41.227   \n",
       "\n",
       "                                            sentence  \\\n",
       "0  أهلاً وسهلاً، أهلاً وسهلاً ومرحباً بيكم وحلقة ...   \n",
       "1              حلقة النهارده بنتكلم فيها عن التحرش\\n   \n",
       "2  يا سلام ع الفرحة يا سلام، طبعاً هو التحرش ده أ...   \n",
       "3  كان موجود من زمان بس يمكن في الفترة الأخيرة اب...   \n",
       "4  طب هل المشكلة في اللبس هل المشكلة في الأخلاق ه...   \n",
       "\n",
       "                                             phoneme  \n",
       "0  >hlA wshlA >hlA wshlA wmrHbA bykm wHlqp jdydp ...  \n",
       "1            Hlqp AlnhArdh bntklm fyhA En AltHr$  \\n  \n",
       "2  yA slAm E AlfrHp yA slAm TbEA hw AltHr$ dh >ky...  \n",
       "3  kAn mwjwd mn zmAn bs ymkn fy Alftrp Al>xyrp Ab...  \n",
       "4  Tb hl Alm$klp fy Allbs hl Alm$klp fy Al>xlAq h...  "
      ]
     },
     "execution_count": 5,
     "metadata": {},
     "output_type": "execute_result"
    }
   ],
   "source": [
    "lines = load_data(dev_dir)\n",
    "\n",
    "data = pd.DataFrame(lines, columns=columns)\n",
    "data.to_csv(f'{dev_dir}dev.csv', index=False)\n",
    "data.head()"
   ]
  },
  {
   "cell_type": "code",
   "execution_count": 6,
   "metadata": {},
   "outputs": [
    {
     "data": {
      "text/html": [
       "<div>\n",
       "<style scoped>\n",
       "    .dataframe tbody tr th:only-of-type {\n",
       "        vertical-align: middle;\n",
       "    }\n",
       "\n",
       "    .dataframe tbody tr th {\n",
       "        vertical-align: top;\n",
       "    }\n",
       "\n",
       "    .dataframe thead th {\n",
       "        text-align: right;\n",
       "    }\n",
       "</style>\n",
       "<table border=\"1\" class=\"dataframe\">\n",
       "  <thead>\n",
       "    <tr style=\"text-align: right;\">\n",
       "      <th></th>\n",
       "      <th>filename</th>\n",
       "      <th>start_time</th>\n",
       "      <th>end_time</th>\n",
       "      <th>sentence</th>\n",
       "      <th>phoneme</th>\n",
       "    </tr>\n",
       "  </thead>\n",
       "  <tbody>\n",
       "    <tr>\n",
       "      <th>0</th>\n",
       "      <td>comedy_09_first_12min</td>\n",
       "      <td>4.754</td>\n",
       "      <td>12.352</td>\n",
       "      <td>سلامات عليكم، حأكلمكو النهارده عن الـ (uncerta...</td>\n",
       "      <td>slAmAt Elykm H&gt;klmkw AlnhArdh En Al @@LAT(unce...</td>\n",
       "    </tr>\n",
       "    <tr>\n",
       "      <th>1</th>\n",
       "      <td>comedy_09_first_12min</td>\n",
       "      <td>12.352</td>\n",
       "      <td>19.989</td>\n",
       "      <td>الأول في معضلة لغوية كده عايز أخلص منها الأول،...</td>\n",
       "      <td>Al&gt;wl fy mEDlp lgwyp kdh EAyz &gt;xlS mnhA Al&gt;wl ...</td>\n",
       "    </tr>\n",
       "    <tr>\n",
       "      <th>2</th>\n",
       "      <td>comedy_09_first_12min</td>\n",
       "      <td>19.989</td>\n",
       "      <td>28.455</td>\n",
       "      <td>لو حد بص على الترجمة بتاعتها في القاموس حيلاقي...</td>\n",
       "      <td>lw Hd bS ElY Altrjmp btAEthA fy AlqAmws HylAqy...</td>\n",
       "    </tr>\n",
       "    <tr>\n",
       "      <th>3</th>\n",
       "      <td>comedy_09_first_12min</td>\n",
       "      <td>28.455</td>\n",
       "      <td>37.159</td>\n",
       "      <td>وأول ملحوظة عايزين نلاحظها على الحكاية دي، إن ...</td>\n",
       "      <td>w&gt;wl mlHwZp EAyzyn nlAHZhA ElY AlHkAyp dy &lt;n m...</td>\n",
       "    </tr>\n",
       "    <tr>\n",
       "      <th>4</th>\n",
       "      <td>comedy_09_first_12min</td>\n",
       "      <td>37.159</td>\n",
       "      <td>46.420</td>\n",
       "      <td>الناقص ممكن يبقى واحد ممكن يبقى عشرة ممكن يبقى...</td>\n",
       "      <td>AlnAqS mmkn ybqY wAHd mmkn ybqY E$rp mmkn ybqY...</td>\n",
       "    </tr>\n",
       "  </tbody>\n",
       "</table>\n",
       "</div>"
      ],
      "text/plain": [
       "                filename start_time end_time  \\\n",
       "0  comedy_09_first_12min      4.754   12.352   \n",
       "1  comedy_09_first_12min     12.352   19.989   \n",
       "2  comedy_09_first_12min     19.989   28.455   \n",
       "3  comedy_09_first_12min     28.455   37.159   \n",
       "4  comedy_09_first_12min     37.159   46.420   \n",
       "\n",
       "                                            sentence  \\\n",
       "0  سلامات عليكم، حأكلمكو النهارده عن الـ (uncerta...   \n",
       "1  الأول في معضلة لغوية كده عايز أخلص منها الأول،...   \n",
       "2  لو حد بص على الترجمة بتاعتها في القاموس حيلاقي...   \n",
       "3  وأول ملحوظة عايزين نلاحظها على الحكاية دي، إن ...   \n",
       "4  الناقص ممكن يبقى واحد ممكن يبقى عشرة ممكن يبقى...   \n",
       "\n",
       "                                             phoneme  \n",
       "0  slAmAt Elykm H>klmkw AlnhArdh En Al @@LAT(unce...  \n",
       "1  Al>wl fy mEDlp lgwyp kdh EAyz >xlS mnhA Al>wl ...  \n",
       "2  lw Hd bS ElY Altrjmp btAEthA fy AlqAmws HylAqy...  \n",
       "3  w>wl mlHwZp EAyzyn nlAHZhA ElY AlHkAyp dy <n m...  \n",
       "4  AlnAqS mmkn ybqY wAHd mmkn ybqY E$rp mmkn ybqY...  "
      ]
     },
     "execution_count": 6,
     "metadata": {},
     "output_type": "execute_result"
    }
   ],
   "source": [
    "lines = load_data(test_dir)\n",
    "\n",
    "data = pd.DataFrame(lines, columns=columns)\n",
    "data.to_csv(f'{test_dir}test.csv', index=False)\n",
    "data.head()"
   ]
  },
  {
   "cell_type": "code",
   "execution_count": 7,
   "metadata": {},
   "outputs": [],
   "source": [
    "train = pd.read_csv(f'{train_dir}train.csv')\n",
    "dev   = pd.read_csv(f'{dev_dir}dev.csv')\n",
    "test  = pd.read_csv(f'{test_dir}test.csv')"
   ]
  },
  {
   "cell_type": "markdown",
   "metadata": {},
   "source": [
    "### Create Wav2Vec2CTCTokenizer"
   ]
  },
  {
   "cell_type": "code",
   "execution_count": 8,
   "metadata": {},
   "outputs": [],
   "source": [
    "chars_to_ignore_regex = '[\\,\\؟\\.\\!\\-\\;\\:\\'\\\"\\☭\\«\\»\\؛\\—\\ـ\\_\\،\\“\\%\\‘\\”\\�\\(\\)\\#]'\n",
    "\n",
    "def remove_special_characters(sentence):  \n",
    "    sentence = re.sub(chars_to_ignore_regex, '', sentence.lower() + \" \")\n",
    "    sentence = re.sub('\\n', '', sentence)\n",
    "    sentence = re.sub('[a-z]','', sentence)\n",
    "    sentence = re.sub(\"[إأٱآا]\", \"ا\", sentence)\n",
    "    noise = re.compile(\"\"\" ّ    | # Tashdid\n",
    "                             َ    | # Fatha\n",
    "                             ً    | # Tanwin Fath\n",
    "                             ُ    | # Damma\n",
    "                             ٌ    | # Tanwin Damm\n",
    "                             ِ    | # Kasra\n",
    "                             ٍ    | # Tanwin Kasr\n",
    "                             ْ    | # Sukun\n",
    "                             ـ     # Tatwil/Kashida\n",
    "                         \"\"\", re.VERBOSE)\n",
    "    sentence = re.sub(noise, '', sentence)\n",
    "    return sentence   "
   ]
  },
  {
   "cell_type": "code",
   "execution_count": 9,
   "metadata": {},
   "outputs": [],
   "source": [
    "train['sentence'] = train['sentence'].apply(remove_special_characters)\n",
    "dev['sentence']   = dev['sentence'].apply(remove_special_characters)\n",
    "test['sentence']  = test['sentence'].apply(remove_special_characters) "
   ]
  },
  {
   "cell_type": "code",
   "execution_count": 10,
   "metadata": {},
   "outputs": [
    {
     "data": {
      "text/html": [
       "<div>\n",
       "<style scoped>\n",
       "    .dataframe tbody tr th:only-of-type {\n",
       "        vertical-align: middle;\n",
       "    }\n",
       "\n",
       "    .dataframe tbody tr th {\n",
       "        vertical-align: top;\n",
       "    }\n",
       "\n",
       "    .dataframe thead th {\n",
       "        text-align: right;\n",
       "    }\n",
       "</style>\n",
       "<table border=\"1\" class=\"dataframe\">\n",
       "  <thead>\n",
       "    <tr style=\"text-align: right;\">\n",
       "      <th></th>\n",
       "      <th>filename</th>\n",
       "      <th>start_time</th>\n",
       "      <th>end_time</th>\n",
       "      <th>sentence</th>\n",
       "      <th>phoneme</th>\n",
       "    </tr>\n",
       "  </thead>\n",
       "  <tbody>\n",
       "    <tr>\n",
       "      <th>0</th>\n",
       "      <td>comedy_72_first_12min</td>\n",
       "      <td>23.652</td>\n",
       "      <td>31.356</td>\n",
       "      <td>مساء الخير اهلا ومرحبا بيكم في حلقة جديدة من ب...</td>\n",
       "      <td>msA' Alxyr &gt;hlA wmrHbA bykm fy Hlqp jdydp mn b...</td>\n",
       "    </tr>\n",
       "    <tr>\n",
       "      <th>1</th>\n",
       "      <td>comedy_72_first_12min</td>\n",
       "      <td>31.356</td>\n",
       "      <td>36.621</td>\n",
       "      <td>عشان يظهر موهبته للناس كلها نفسه بس ان هو ياخد...</td>\n",
       "      <td>E$An yZhr mwhbth llnAs klhA nfsh bs &lt;n hw yAxd...</td>\n",
       "    </tr>\n",
       "    <tr>\n",
       "      <th>2</th>\n",
       "      <td>comedy_72_first_12min</td>\n",
       "      <td>36.621</td>\n",
       "      <td>46.166</td>\n",
       "      <td>يمكن احنا زمان الفرصة اتاحت لنا اتاحت لنا الفر...</td>\n",
       "      <td>ymkn &lt;HnA zmAn AlfrSp &gt;tAHt lnA &gt;tAHt lnA Alfr...</td>\n",
       "    </tr>\n",
       "    <tr>\n",
       "      <th>3</th>\n",
       "      <td>comedy_72_first_12min</td>\n",
       "      <td>46.166</td>\n",
       "      <td>51.581</td>\n",
       "      <td>وجه الزمن وجه الوقت وجه المكان اللي نقدم ناس غ...</td>\n",
       "      <td>wjh Alzmn wjh Alwqt wjh AlmkAn Ally nqdm nAs g...</td>\n",
       "    </tr>\n",
       "    <tr>\n",
       "      <th>4</th>\n",
       "      <td>comedy_72_first_12min</td>\n",
       "      <td>51.581</td>\n",
       "      <td>59.684</td>\n",
       "      <td>الحمد لله احنا بعد ما اتشهرنا جدا والناس عرفتن...</td>\n",
       "      <td>AlHmd llh &lt;HnA bEd mA &lt;t$hrnA jdA wAlnAs Erftn...</td>\n",
       "    </tr>\n",
       "  </tbody>\n",
       "</table>\n",
       "</div>"
      ],
      "text/plain": [
       "                filename  start_time  end_time  \\\n",
       "0  comedy_72_first_12min      23.652    31.356   \n",
       "1  comedy_72_first_12min      31.356    36.621   \n",
       "2  comedy_72_first_12min      36.621    46.166   \n",
       "3  comedy_72_first_12min      46.166    51.581   \n",
       "4  comedy_72_first_12min      51.581    59.684   \n",
       "\n",
       "                                            sentence  \\\n",
       "0  مساء الخير اهلا ومرحبا بيكم في حلقة جديدة من ب...   \n",
       "1  عشان يظهر موهبته للناس كلها نفسه بس ان هو ياخد...   \n",
       "2  يمكن احنا زمان الفرصة اتاحت لنا اتاحت لنا الفر...   \n",
       "3  وجه الزمن وجه الوقت وجه المكان اللي نقدم ناس غ...   \n",
       "4  الحمد لله احنا بعد ما اتشهرنا جدا والناس عرفتن...   \n",
       "\n",
       "                                             phoneme  \n",
       "0  msA' Alxyr >hlA wmrHbA bykm fy Hlqp jdydp mn b...  \n",
       "1  E$An yZhr mwhbth llnAs klhA nfsh bs <n hw yAxd...  \n",
       "2  ymkn <HnA zmAn AlfrSp >tAHt lnA >tAHt lnA Alfr...  \n",
       "3  wjh Alzmn wjh Alwqt wjh AlmkAn Ally nqdm nAs g...  \n",
       "4  AlHmd llh <HnA bEd mA <t$hrnA jdA wAlnAs Erftn...  "
      ]
     },
     "execution_count": 10,
     "metadata": {},
     "output_type": "execute_result"
    }
   ],
   "source": [
    "train.head()"
   ]
  },
  {
   "cell_type": "code",
   "execution_count": 11,
   "metadata": {},
   "outputs": [],
   "source": [
    "def join_chars_df_col(df, col):\n",
    "    all_text = \" \".join(df[col])\n",
    "    vocab = list(set(all_text))\n",
    "    return {\"vocab\": [vocab], \"all_text\": [all_text]}"
   ]
  },
  {
   "cell_type": "code",
   "execution_count": 12,
   "metadata": {},
   "outputs": [],
   "source": [
    "vocab_train = join_chars_df_col(train, 'sentence')\n",
    "vocab_dev   = join_chars_df_col(dev, 'sentence')\n",
    "vocab_test  = join_chars_df_col(test, 'sentence')"
   ]
  },
  {
   "cell_type": "code",
   "execution_count": 13,
   "metadata": {},
   "outputs": [],
   "source": [
    "vocab_list = sorted(list(set(vocab_train[\"vocab\"][0]) | set(vocab_test[\"vocab\"][0])))"
   ]
  },
  {
   "cell_type": "code",
   "execution_count": 14,
   "metadata": {},
   "outputs": [
    {
     "data": {
      "text/plain": [
       "{' ': 0,\n",
       " '/': 1,\n",
       " '2': 2,\n",
       " 'ء': 3,\n",
       " 'ؤ': 4,\n",
       " 'ئ': 5,\n",
       " 'ا': 6,\n",
       " 'ب': 7,\n",
       " 'ة': 8,\n",
       " 'ت': 9,\n",
       " 'ث': 10,\n",
       " 'ج': 11,\n",
       " 'ح': 12,\n",
       " 'خ': 13,\n",
       " 'د': 14,\n",
       " 'ذ': 15,\n",
       " 'ر': 16,\n",
       " 'ز': 17,\n",
       " 'س': 18,\n",
       " 'ش': 19,\n",
       " 'ص': 20,\n",
       " 'ض': 21,\n",
       " 'ط': 22,\n",
       " 'ظ': 23,\n",
       " 'ع': 24,\n",
       " 'غ': 25,\n",
       " 'ف': 26,\n",
       " 'ق': 27,\n",
       " 'ك': 28,\n",
       " 'ل': 29,\n",
       " 'م': 30,\n",
       " 'ن': 31,\n",
       " 'ه': 32,\n",
       " 'و': 33,\n",
       " 'ى': 34,\n",
       " 'ي': 35}"
      ]
     },
     "execution_count": 14,
     "metadata": {},
     "output_type": "execute_result"
    }
   ],
   "source": [
    "vocab_dict = {v: k for k, v in enumerate(vocab_list)}\n",
    "vocab_dict"
   ]
  },
  {
   "cell_type": "code",
   "execution_count": 15,
   "metadata": {},
   "outputs": [],
   "source": [
    "vocab_dict[\"|\"] = vocab_dict[\" \"]\n",
    "del vocab_dict[\" \"]"
   ]
  },
  {
   "cell_type": "code",
   "execution_count": 16,
   "metadata": {},
   "outputs": [
    {
     "data": {
      "text/plain": [
       "38"
      ]
     },
     "execution_count": 16,
     "metadata": {},
     "output_type": "execute_result"
    }
   ],
   "source": [
    "vocab_dict[\"[UNK]\"] = len(vocab_dict)\n",
    "vocab_dict[\"[PAD]\"] = len(vocab_dict)\n",
    "len(vocab_dict)"
   ]
  },
  {
   "cell_type": "code",
   "execution_count": 17,
   "metadata": {},
   "outputs": [],
   "source": [
    "with open(\"vocab.json\", 'w') as vocab_file:\n",
    "    json.dump(vocab_dict, vocab_file)"
   ]
  },
  {
   "cell_type": "code",
   "execution_count": 18,
   "metadata": {},
   "outputs": [],
   "source": [
    "tokenizer = Wav2Vec2CTCTokenizer(\"vocab.json\", unk_token=\"[UNK]\", pad_token=\"[PAD]\", word_delimiter_token=\"|\")\n",
    "feature_extractor = Wav2Vec2FeatureExtractor(feature_size=1, sampling_rate=16000, padding_value=0.0, \n",
    "                                             do_normalize=True, return_attention_mask=True)\n",
    "processor = Wav2Vec2Processor(feature_extractor=feature_extractor, tokenizer=tokenizer)"
   ]
  },
  {
   "cell_type": "code",
   "execution_count": 19,
   "metadata": {},
   "outputs": [],
   "source": [
    "processor.save_pretrained(new_output_models_dir)"
   ]
  },
  {
   "cell_type": "markdown",
   "metadata": {},
   "source": [
    "### Create Wav2Vec2FeatureExtractor"
   ]
  },
  {
   "cell_type": "markdown",
   "metadata": {},
   "source": [
    "### Data Preprocessing"
   ]
  },
  {
   "cell_type": "markdown",
   "metadata": {},
   "source": [
    "## Training\n",
    "### Setup Trainer"
   ]
  },
  {
   "cell_type": "markdown",
   "metadata": {},
   "source": [
    "### Training"
   ]
  }
 ],
 "metadata": {
  "kernelspec": {
   "display_name": "Python 3 (ipykernel)",
   "language": "python",
   "name": "python3"
  },
  "language_info": {
   "codemirror_mode": {
    "name": "ipython",
    "version": 3
   },
   "file_extension": ".py",
   "mimetype": "text/x-python",
   "name": "python",
   "nbconvert_exporter": "python",
   "pygments_lexer": "ipython3",
   "version": "3.9.7"
  }
 },
 "nbformat": 4,
 "nbformat_minor": 4
}
